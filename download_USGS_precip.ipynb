{
 "cells": [
  {
   "cell_type": "markdown",
   "id": "6ec433f8-7c45-439b-a855-57f1c6641f41",
   "metadata": {},
   "source": [
    "![USGS Logo](https://logowik.com/content/uploads/images/usgs2667.logowik.com.webp)"
   ]
  },
  {
   "cell_type": "markdown",
   "id": "7f9aaf0b-4d63-4720-8a23-efc1c51d9e55",
   "metadata": {},
   "source": [
    "# Set up working directory for data downloads"
   ]
  },
  {
   "cell_type": "code",
   "execution_count": 1,
   "id": "4541a17d-a040-4c86-a104-923c86413669",
   "metadata": {},
   "outputs": [
    {
     "data": {
      "text/plain": [
       "'/home/jovyan'"
      ]
     },
     "execution_count": 1,
     "metadata": {},
     "output_type": "execute_result"
    }
   ],
   "source": [
    "import os\n",
    "os.getcwd()"
   ]
  },
  {
   "cell_type": "code",
   "execution_count": 7,
   "id": "a84cdadd-d027-4d16-9b5f-db056e6d28b8",
   "metadata": {},
   "outputs": [],
   "source": [
    "os.mkdir('USGSdata')\n",
    "os.chdir('USGSdata')"
   ]
  },
  {
   "cell_type": "code",
   "execution_count": 11,
   "id": "f0b3838f-4ac1-408f-b4fd-0e3415567802",
   "metadata": {},
   "outputs": [
    {
     "data": {
      "text/plain": [
       "'/home/jovyan/USGSdata'"
      ]
     },
     "execution_count": 11,
     "metadata": {},
     "output_type": "execute_result"
    }
   ],
   "source": [
    "path_to_save_directory = os.getcwd()\n",
    "path_to_save_directory"
   ]
  },
  {
   "cell_type": "markdown",
   "id": "677cbee9-25f7-4eee-8a00-8729e6b3ec6b",
   "metadata": {},
   "source": [
    "## Test URL and file name by downloading a single data file"
   ]
  },
  {
   "cell_type": "code",
   "execution_count": 12,
   "id": "1c4b03d3-bde4-4ff2-8f4d-c3dadf2ee2a3",
   "metadata": {},
   "outputs": [],
   "source": [
    "import requests\n",
    "from bs4 import BeautifulSoup\n",
    "\n",
    "url = \"https://www.northwestknowledge.net/metdata/data/\"\n",
    "response = requests.get(url)\n",
    "soup = BeautifulSoup(response.content, \"html.parser\")\n",
    "files_to_download = [url + node.get('href') for node in soup.find_all('a') if node.get('href').startswith('pr_')]\n"
   ]
  },
  {
   "cell_type": "code",
   "execution_count": 13,
   "id": "4ae66fff-528f-4485-b38f-40df71648a26",
   "metadata": {},
   "outputs": [
    {
     "name": "stdout",
     "output_type": "stream",
     "text": [
      "Check URL and file name in list to download: https://www.northwestknowledge.net/metdata/data/pr_1979.nc\n"
     ]
    }
   ],
   "source": [
    "file_url=files_to_download[0]\n",
    "print('Check URL and file name in list to download:',file_url)"
   ]
  },
  {
   "cell_type": "code",
   "execution_count": 14,
   "id": "bf26e14e-e577-49e6-bffc-9c80c077c82e",
   "metadata": {},
   "outputs": [],
   "source": [
    "response = requests.get(file_url)\n",
    "file_name = os.path.basename(file_url)  # Extract the file name from the URL\n",
    "full_file_path = os.path.join(path_to_save_directory, file_name)  # Create the full file path\n",
    "with open(full_file_path, 'wb') as f:  # Use the full file path\n",
    "    f.write(response.content)"
   ]
  },
  {
   "cell_type": "code",
   "execution_count": 16,
   "id": "1ef855c2-be6c-44f5-a78a-870b601f85d0",
   "metadata": {},
   "outputs": [
    {
     "data": {
      "text/plain": [
       "['pr_1979.nc', '.ipynb_checkpoints']"
      ]
     },
     "execution_count": 16,
     "metadata": {},
     "output_type": "execute_result"
    }
   ],
   "source": [
    "os.listdir('.')"
   ]
  },
  {
   "cell_type": "markdown",
   "id": "d8b879b4-0af7-4e34-a89a-4f23a48d8919",
   "metadata": {},
   "source": [
    "## Download all data files"
   ]
  },
  {
   "cell_type": "code",
   "execution_count": 17,
   "id": "25d34386-9c57-487e-b987-9c73ccb640df",
   "metadata": {},
   "outputs": [],
   "source": [
    "for file_url in files_to_download:\n",
    "    response = requests.get(file_url)\n",
    "    file_name = os.path.basename(file_url)  # Extract the file name from the URL\n",
    "    full_file_path = os.path.join(path_to_save_directory, file_name)  # Create the full file path\n",
    "    with open(full_file_path, 'wb') as f:  # Use the full file path\n",
    "        f.write(response.content)"
   ]
  },
  {
   "cell_type": "code",
   "execution_count": 18,
   "id": "d5099356-0dd9-4cbd-a45c-ac3b73d29e00",
   "metadata": {},
   "outputs": [
    {
     "name": "stdout",
     "output_type": "stream",
     "text": [
      "Number of files in the directory: 89\n"
     ]
    }
   ],
   "source": [
    "# List files in the current directory\n",
    "files = os.listdir('.')\n",
    "num_files = len(files)\n",
    "print(\"Number of files in the directory:\", num_files)"
   ]
  },
  {
   "cell_type": "code",
   "execution_count": 19,
   "id": "15a5e6f1-f683-42da-b273-1f37745be73d",
   "metadata": {},
   "outputs": [
    {
     "name": "stdout",
     "output_type": "stream",
     "text": [
      "Start Year: 2000\n",
      "End Year: 1983\n"
     ]
    }
   ],
   "source": [
    "# Extract numbers from position 4 to 8\n",
    "# for first year in file name list\n",
    "\n",
    "start_numbers_str = files[0][3:7] # Positions are 0-indexed\n",
    "start_parsed_number = int(start_numbers_str)\n",
    "print(\"Start Year:\",start_parsed_number)\n",
    "\n",
    "# for last year in file name list\n",
    "end_numbers_str = files[len(files)-1][3:7] # Positions are 0-indexed\n",
    "end_parsed_number = int(end_numbers_str)\n",
    "print(\"End Year:\",end_parsed_number)"
   ]
  },
  {
   "cell_type": "markdown",
   "id": "612da1dc-da31-4986-9780-b1024e7227a5",
   "metadata": {},
   "source": [
    "## Go to Notebook 2 of 3: Subset_USGS_precip.ipynb"
   ]
  },
  {
   "cell_type": "code",
   "execution_count": null,
   "id": "82e1f284-78ae-4b72-babd-2dd97e866339",
   "metadata": {},
   "outputs": [],
   "source": []
  }
 ],
 "metadata": {
  "kernelspec": {
   "display_name": "Python 3 (ipykernel)",
   "language": "python",
   "name": "python3"
  },
  "language_info": {
   "codemirror_mode": {
    "name": "ipython",
    "version": 3
   },
   "file_extension": ".py",
   "mimetype": "text/x-python",
   "name": "python",
   "nbconvert_exporter": "python",
   "pygments_lexer": "ipython3",
   "version": "3.10.14"
  }
 },
 "nbformat": 4,
 "nbformat_minor": 5
}
