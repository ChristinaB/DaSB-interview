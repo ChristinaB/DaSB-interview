{
 "cells": [
  {
   "cell_type": "markdown",
   "id": "9f80051c-c27c-4f48-9e81-f1e64c255488",
   "metadata": {},
   "source": [
    "![USGS Logo](https://logowik.com/content/uploads/images/usgs2667.logowik.com.webp)"
   ]
  },
  {
   "cell_type": "code",
   "execution_count": 32,
   "id": "98be1467-43f6-46ce-8420-4964e3c9593d",
   "metadata": {},
   "outputs": [],
   "source": [
    "import os\n",
    "import glob\n",
    "#os.chdir('..')\n",
    "os.chdir('USGSdata')"
   ]
  },
  {
   "cell_type": "code",
   "execution_count": 34,
   "id": "db5170bd-a98f-42ad-8fd9-ea217d7b1ab7",
   "metadata": {},
   "outputs": [
    {
     "data": {
      "text/plain": [
       "'C:\\\\Users\\\\Diner\\\\USGSdata'"
      ]
     },
     "execution_count": 34,
     "metadata": {},
     "output_type": "execute_result"
    }
   ],
   "source": [
    "path_to_save_directory = os.getcwd()\n",
    "path_to_save_directory"
   ]
  },
  {
   "cell_type": "code",
   "execution_count": 4,
   "id": "3682f6c2-b2ed-4a97-9b80-c832590208f9",
   "metadata": {},
   "outputs": [],
   "source": [
    "#!pip install pandas\n",
    "#!pip install xarray\n",
    "#!pip install numpy"
   ]
  },
  {
   "cell_type": "code",
   "execution_count": 15,
   "id": "19dbd28c-d77f-4fe9-a1dc-8d878eab5c9d",
   "metadata": {},
   "outputs": [],
   "source": [
    "import xarray as xr \n",
    "import numpy as np \n",
    "import pandas as pd "
   ]
  },
  {
   "cell_type": "code",
   "execution_count": 23,
   "id": "32cc6fac-f632-46a5-9b27-c3dc047c5506",
   "metadata": {},
   "outputs": [],
   "source": [
    "#files=glob.glob('pr_*')"
   ]
  },
  {
   "cell_type": "markdown",
   "id": "8c688dd8-8f99-44dc-a100-52559127ccd8",
   "metadata": {},
   "source": [
    "# Combine Precipitation Data"
   ]
  },
  {
   "cell_type": "code",
   "execution_count": 10,
   "id": "937f6e8d-85bc-42cf-b862-fc45f112cb00",
   "metadata": {},
   "outputs": [],
   "source": [
    "import glob \n",
    "import pandas as pd \n",
    "from datetime import datetime"
   ]
  },
  {
   "cell_type": "code",
   "execution_count": 18,
   "id": "97b13def-99aa-45c0-9744-1b7c377397a9",
   "metadata": {},
   "outputs": [],
   "source": [
    "#pfiles = glob.glob('pr_*')\n",
    "#pfiles"
   ]
  },
  {
   "cell_type": "code",
   "execution_count": 116,
   "id": "7602524d-a2ab-4a56-9d46-147988626123",
   "metadata": {},
   "outputs": [],
   "source": [
    "#Option 1: use all files up to 2024\n",
    "files2024 = glob.glob('basin*')\n",
    "files=files2024"
   ]
  },
  {
   "cell_type": "code",
   "execution_count": 118,
   "id": "b1a85062-87ba-481b-b8a6-15151c96812d",
   "metadata": {},
   "outputs": [],
   "source": [
    "#Option 2: use files only to 2022\n",
    "files2022=files[0:44]\n",
    "files=files2022"
   ]
  },
  {
   "cell_type": "code",
   "execution_count": 128,
   "id": "5c0ec6a0-6fb3-4806-bb75-8b3794a923c5",
   "metadata": {},
   "outputs": [
    {
     "data": {
      "text/plain": [
       "44"
      ]
     },
     "execution_count": 128,
     "metadata": {},
     "output_type": "execute_result"
    }
   ],
   "source": [
    "# Files used = 46 if using files to 2024\n",
    "# Files used = 44 if using files to 2022\n",
    "len(files)"
   ]
  },
  {
   "cell_type": "code",
   "execution_count": null,
   "id": "122b9b84-f73e-4456-a5f8-75656562e7dd",
   "metadata": {},
   "outputs": [],
   "source": [
    "# Define daily data \n",
    "daily_P={}"
   ]
  },
  {
   "cell_type": "code",
   "execution_count": 58,
   "id": "adbb1697-c9c6-478f-be73-e67e1395c9df",
   "metadata": {},
   "outputs": [],
   "source": [
    "# Define a dictionary containing annuaprecip data\n",
    "data = {'year': [],\n",
    "        'prcp': []} "
   ]
  },
  {
   "cell_type": "code",
   "execution_count": 130,
   "id": "2bbc6d0f-100f-4d83-aa82-0951ad962420",
   "metadata": {},
   "outputs": [],
   "source": [
    "#Set index to length of years\n",
    "index = pd.RangeIndex(len(files))"
   ]
  },
  {
   "cell_type": "code",
   "execution_count": 131,
   "id": "e05b2b79-95d4-4958-8a2e-c230572f5d5a",
   "metadata": {},
   "outputs": [
    {
     "data": {
      "text/plain": [
       "RangeIndex(start=0, stop=44, step=1)"
      ]
     },
     "execution_count": 131,
     "metadata": {},
     "output_type": "execute_result"
    }
   ],
   "source": [
    "index"
   ]
  },
  {
   "cell_type": "code",
   "execution_count": 133,
   "id": "8266397d-f2b2-4fd6-8c65-5d8079c17547",
   "metadata": {},
   "outputs": [],
   "source": [
    "# Convert the dictionary into DataFrame\n",
    "df = pd.DataFrame(data, columns=['year', 'prcp'])\n"
   ]
  },
  {
   "cell_type": "markdown",
   "id": "61a913a0-2bb5-49de-9623-fcd75b354dc7",
   "metadata": {},
   "source": [
    "## MAIN: Calculate total annual precipitation"
   ]
  },
  {
   "cell_type": "code",
   "execution_count": 136,
   "id": "5ee1d40e-28f5-48fd-b372-394afd3f4fb4",
   "metadata": {},
   "outputs": [],
   "source": [
    "# iterate through each row and select using simplest index method\n",
    "# 'Year' and 'Prcp' column respectively.\n",
    "for ind in index:\n",
    "    current = pd.read_csv(files[ind])\n",
    "    \n",
    "    daily_P['date']=pd.to_datetime(current['day'])\n",
    "    daily_P['prcp'] = round(current['prcp'], 2)\n",
    "    df.loc[ind,'year'] =daily_P['date'].dt.year[0]\n",
    "    df.loc[ind,'prcp'] = round(current['prcp'].sum(),2)\n",
    "    \n",
    "    #print(df['year'][ind], df['prcp'][ind])"
   ]
  },
  {
   "cell_type": "code",
   "execution_count": 137,
   "id": "c419b4da-2e3d-4226-9368-36bd88350f6b",
   "metadata": {},
   "outputs": [
    {
     "data": {
      "text/html": [
       "<div>\n",
       "<style scoped>\n",
       "    .dataframe tbody tr th:only-of-type {\n",
       "        vertical-align: middle;\n",
       "    }\n",
       "\n",
       "    .dataframe tbody tr th {\n",
       "        vertical-align: top;\n",
       "    }\n",
       "\n",
       "    .dataframe thead th {\n",
       "        text-align: right;\n",
       "    }\n",
       "</style>\n",
       "<table border=\"1\" class=\"dataframe\">\n",
       "  <thead>\n",
       "    <tr style=\"text-align: right;\">\n",
       "      <th></th>\n",
       "      <th>year</th>\n",
       "      <th>prcp</th>\n",
       "    </tr>\n",
       "  </thead>\n",
       "  <tbody>\n",
       "    <tr>\n",
       "      <th>0</th>\n",
       "      <td>1979.0</td>\n",
       "      <td>1969.11</td>\n",
       "    </tr>\n",
       "    <tr>\n",
       "      <th>1</th>\n",
       "      <td>1980.0</td>\n",
       "      <td>1732.27</td>\n",
       "    </tr>\n",
       "    <tr>\n",
       "      <th>2</th>\n",
       "      <td>1981.0</td>\n",
       "      <td>1263.77</td>\n",
       "    </tr>\n",
       "    <tr>\n",
       "      <th>3</th>\n",
       "      <td>1982.0</td>\n",
       "      <td>1608.25</td>\n",
       "    </tr>\n",
       "  </tbody>\n",
       "</table>\n",
       "</div>"
      ],
      "text/plain": [
       "     year     prcp\n",
       "0  1979.0  1969.11\n",
       "1  1980.0  1732.27\n",
       "2  1981.0  1263.77\n",
       "3  1982.0  1608.25"
      ]
     },
     "execution_count": 137,
     "metadata": {},
     "output_type": "execute_result"
    }
   ],
   "source": [
    "# check file output for first few rows\n",
    "df[0:4]"
   ]
  },
  {
   "cell_type": "code",
   "execution_count": 140,
   "id": "2ccd6819-0f5a-416a-9e49-f65ca90631ac",
   "metadata": {},
   "outputs": [],
   "source": [
    "# fix year column by converting to integer\n",
    "df = df.astype({'year':'int'})"
   ]
  },
  {
   "cell_type": "code",
   "execution_count": 142,
   "id": "6638513a-d3a2-465c-af8b-836a601491d6",
   "metadata": {},
   "outputs": [
    {
     "data": {
      "text/html": [
       "<div>\n",
       "<style scoped>\n",
       "    .dataframe tbody tr th:only-of-type {\n",
       "        vertical-align: middle;\n",
       "    }\n",
       "\n",
       "    .dataframe tbody tr th {\n",
       "        vertical-align: top;\n",
       "    }\n",
       "\n",
       "    .dataframe thead th {\n",
       "        text-align: right;\n",
       "    }\n",
       "</style>\n",
       "<table border=\"1\" class=\"dataframe\">\n",
       "  <thead>\n",
       "    <tr style=\"text-align: right;\">\n",
       "      <th></th>\n",
       "      <th>year</th>\n",
       "      <th>prcp</th>\n",
       "    </tr>\n",
       "  </thead>\n",
       "  <tbody>\n",
       "    <tr>\n",
       "      <th>0</th>\n",
       "      <td>1979</td>\n",
       "      <td>1969.11</td>\n",
       "    </tr>\n",
       "    <tr>\n",
       "      <th>1</th>\n",
       "      <td>1980</td>\n",
       "      <td>1732.27</td>\n",
       "    </tr>\n",
       "    <tr>\n",
       "      <th>2</th>\n",
       "      <td>1981</td>\n",
       "      <td>1263.77</td>\n",
       "    </tr>\n",
       "    <tr>\n",
       "      <th>3</th>\n",
       "      <td>1982</td>\n",
       "      <td>1608.25</td>\n",
       "    </tr>\n",
       "  </tbody>\n",
       "</table>\n",
       "</div>"
      ],
      "text/plain": [
       "   year     prcp\n",
       "0  1979  1969.11\n",
       "1  1980  1732.27\n",
       "2  1981  1263.77\n",
       "3  1982  1608.25"
      ]
     },
     "execution_count": 142,
     "metadata": {},
     "output_type": "execute_result"
    }
   ],
   "source": [
    "# check output for the first few rows\n",
    "df[0:4]"
   ]
  },
  {
   "cell_type": "markdown",
   "id": "78133428-5350-4094-b1c9-9781b2ef2249",
   "metadata": {},
   "source": [
    "## Plot Precipitation "
   ]
  },
  {
   "cell_type": "code",
   "execution_count": 145,
   "id": "37e30b8e-aa9a-4304-9772-9fcbefe13aaf",
   "metadata": {},
   "outputs": [
    {
     "data": {
      "text/plain": [
       "Text(0, 0.5, 'Annual precipitation, mm')"
      ]
     },
     "execution_count": 145,
     "metadata": {},
     "output_type": "execute_result"
    },
    {
     "data": {
      "image/png": "[encoded data removed]",
      "text/plain": [
       "<Figure size 640x480 with 1 Axes>"
      ]
     },
     "metadata": {},
     "output_type": "display_data"
    }
   ],
   "source": [
    "import matplotlib.pyplot as plt\n",
    "\n",
    "#plt.plot(df.index, df['prcp'], 'o', color = 'black')\n",
    "plt.plot(df['year'], df['prcp'], 'o', color = 'black')\n",
    "plt.xlabel('Year')\n",
    "plt.ylabel('Annual precipitation, mm')"
   ]
  },
  {
   "cell_type": "markdown",
   "id": "efab1d74-cb08-431f-87cb-083d208574ed",
   "metadata": {},
   "source": [
    "## Check software requirements used in this Notebook"
   ]
  },
  {
   "cell_type": "code",
   "execution_count": 104,
   "id": "b603a1e3-b565-47f4-a327-3389268b2038",
   "metadata": {},
   "outputs": [
    {
     "name": "stdout",
     "output_type": "stream",
     "text": [
      "matplotlib @ file:///C:/b/abs_ddmsoovv14/croot/matplotlib-suite_1713336426307/work\n",
      "matplotlib-inline @ file:///C:/Users/dev-admin/perseverance-python-buildout/croot/matplotlib-inline_1699484796387/work\n",
      "numpy @ file:///C:/b/abs_c1ywpu18ar/croot/numpy_and_numpy_base_1708638681471/work/dist/numpy-1.26.4-cp312-cp312-win_amd64.whl#sha256=becc06674317799ad0165a939a7613809d0bee9bd328a1e4308c57c39cacf08c\n",
      "numpydoc @ file:///C:/b/abs_bbspp5l8vu/croot/numpydoc_1718279185573/work\n",
      "pandas @ file:///C:/b/abs_9aotnvvz16/croot/pandas_1718308978393/work/dist/pandas-2.2.2-cp312-cp312-win_amd64.whl#sha256=93959056e02e9855025011adb18394296a58d49e72b9342733b7693a5267c790\n"
     ]
    }
   ],
   "source": [
    "!pip freeze | findstr matplotlib\n",
    "!pip freeze | findstr numpy\n",
    "!pip freeze | findstr pandas"
   ]
  },
  {
   "cell_type": "markdown",
   "id": "00a6675f-9c79-42d7-a8e6-238d9d1ff051",
   "metadata": {},
   "source": [
    "## Land Acknowledgement\n",
    "\n",
    "The University of Washington acknowledges the Coast Salish peoples of this land, the land which touches the shared waters of all tribes and bands within the Suquamish, Tulalip and Muckleshoot nations.\n"
   ]
  },
  {
   "cell_type": "code",
   "execution_count": null,
   "id": "41c27c82-310e-4381-b9e1-176e45b0c247",
   "metadata": {},
   "outputs": [],
   "source": []
  },
  {
   "cell_type": "code",
   "execution_count": null,
   "id": "d0c34456-40d7-4298-ba4a-bf8c60957145",
   "metadata": {},
   "outputs": [],
   "source": []
  }
 ],
 "metadata": {
  "kernelspec": {
   "display_name": "Python 3 (ipykernel)",
   "language": "python",
   "name": "python3"
  },
  "language_info": {
   "codemirror_mode": {
    "name": "ipython",
    "version": 3
   },
   "file_extension": ".py",
   "mimetype": "text/x-python",
   "name": "python",
   "nbconvert_exporter": "python",
   "pygments_lexer": "ipython3",
   "version": "3.12.4"
  }
 },
 "nbformat": 4,
 "nbformat_minor": 5
}
